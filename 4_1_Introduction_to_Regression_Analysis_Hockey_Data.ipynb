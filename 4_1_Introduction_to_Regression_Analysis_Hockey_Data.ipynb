{
  "cells": [
    {
      "cell_type": "markdown",
      "metadata": {
        "id": "view-in-github",
        "colab_type": "text"
      },
      "source": [
        "<a href=\"https://colab.research.google.com/github/epifeni/Sports-Performance-Analytics-Specialization/blob/main/4_1_Introduction_to_Regression_Analysis.ipynb\" target=\"_parent\"><img src=\"https://colab.research.google.com/assets/colab-badge.svg\" alt=\"Open In Colab\"/></a>"
      ]
    },
    {
      "cell_type": "markdown",
      "source": [
        "### National Hockey League - NHL_Team_Stats dataset regression analysis"
      ],
      "metadata": {
        "id": "QvbH_xij3GJ8"
      }
    },
    {
      "cell_type": "markdown",
      "metadata": {
        "id": "sGfjZfXA1kDH"
      },
      "source": [
        "### Import useful libraries\n"
      ]
    },
    {
      "cell_type": "code",
      "execution_count": 1,
      "metadata": {
        "id": "i-G0T8IH1kDI"
      },
      "outputs": [],
      "source": [
        "import pandas as pd\n",
        "import numpy as np\n",
        "import matplotlib.pyplot as plt"
      ]
    },
    {
      "cell_type": "code",
      "source": [
        "# Load the Drive helper and mount\n",
        "from google.colab import drive\n",
        "drive.mount('/content/drive')"
      ],
      "metadata": {
        "colab": {
          "base_uri": "https://localhost:8080/"
        },
        "id": "B6ZtJ4om1mdU",
        "outputId": "2afe3ae0-c91d-4073-82d4-ffa0a81b18a6"
      },
      "execution_count": 2,
      "outputs": [
        {
          "output_type": "stream",
          "name": "stdout",
          "text": [
            "Mounted at /content/drive\n"
          ]
        }
      ]
    },
    {
      "cell_type": "markdown",
      "metadata": {
        "id": "M7cvbVYO1kDJ"
      },
      "source": [
        "### In this section, we will use the NHL_Team_Stats dataset we compiled and cleaned up in the assignment for Week 2.\n",
        "Import both NHL_Team_Stats and NHL_Team_R_Stats data from Week 2 assignment into Python."
      ]
    },
    {
      "cell_type": "code",
      "execution_count": 3,
      "metadata": {
        "colab": {
          "base_uri": "https://localhost:8080/",
          "height": 206
        },
        "id": "sFwlU4I21kDJ",
        "outputId": "c3fd535a-8e34-4c84-e677-42481e20bc20"
      },
      "outputs": [
        {
          "output_type": "execute_result",
          "data": {
            "text/plain": [
              "  tricode   pp   pk  ppgf  competition_name  tid  type  win  goals_for  \\\n",
              "0     ANA   35   27   9.0  2010 NHL Playoff   21     3    2       19.0   \n",
              "1     BOS  126  116  22.0  2010 NHL Playoff   20     3   16       76.0   \n",
              "2     BUF   48   46  13.0  2010 NHL Playoff   17     3    3       17.0   \n",
              "3     CHI   27   39   6.0  2010 NHL Playoff    6     3    3       22.0   \n",
              "4     DET   59   55   6.0  2010 NHL Playoff   18     3    7       36.0   \n",
              "\n",
              "   goals_against  game_count           team_name   win_pct    avg_gf    avg_ga  \n",
              "0           22.0           6       Anaheim Ducks  0.333333  3.166667  3.666667  \n",
              "1           48.0          24       Boston Bruins  0.666667  3.166667  2.000000  \n",
              "2           22.0           7      Buffalo Sabres  0.428571  2.428571  3.142857  \n",
              "3           16.0           7  Chicago Blackhawks  0.428571  3.142857  2.285714  \n",
              "4           27.0          11   Detroit Red Wings  0.636364  3.272727  2.454545  "
            ],
            "text/html": [
              "\n",
              "  <div id=\"df-f548f644-7360-4cd8-a571-b6e7210732aa\" class=\"colab-df-container\">\n",
              "    <div>\n",
              "<style scoped>\n",
              "    .dataframe tbody tr th:only-of-type {\n",
              "        vertical-align: middle;\n",
              "    }\n",
              "\n",
              "    .dataframe tbody tr th {\n",
              "        vertical-align: top;\n",
              "    }\n",
              "\n",
              "    .dataframe thead th {\n",
              "        text-align: right;\n",
              "    }\n",
              "</style>\n",
              "<table border=\"1\" class=\"dataframe\">\n",
              "  <thead>\n",
              "    <tr style=\"text-align: right;\">\n",
              "      <th></th>\n",
              "      <th>tricode</th>\n",
              "      <th>pp</th>\n",
              "      <th>pk</th>\n",
              "      <th>ppgf</th>\n",
              "      <th>competition_name</th>\n",
              "      <th>tid</th>\n",
              "      <th>type</th>\n",
              "      <th>win</th>\n",
              "      <th>goals_for</th>\n",
              "      <th>goals_against</th>\n",
              "      <th>game_count</th>\n",
              "      <th>team_name</th>\n",
              "      <th>win_pct</th>\n",
              "      <th>avg_gf</th>\n",
              "      <th>avg_ga</th>\n",
              "    </tr>\n",
              "  </thead>\n",
              "  <tbody>\n",
              "    <tr>\n",
              "      <th>0</th>\n",
              "      <td>ANA</td>\n",
              "      <td>35</td>\n",
              "      <td>27</td>\n",
              "      <td>9.0</td>\n",
              "      <td>2010 NHL Playoff</td>\n",
              "      <td>21</td>\n",
              "      <td>3</td>\n",
              "      <td>2</td>\n",
              "      <td>19.0</td>\n",
              "      <td>22.0</td>\n",
              "      <td>6</td>\n",
              "      <td>Anaheim Ducks</td>\n",
              "      <td>0.333333</td>\n",
              "      <td>3.166667</td>\n",
              "      <td>3.666667</td>\n",
              "    </tr>\n",
              "    <tr>\n",
              "      <th>1</th>\n",
              "      <td>BOS</td>\n",
              "      <td>126</td>\n",
              "      <td>116</td>\n",
              "      <td>22.0</td>\n",
              "      <td>2010 NHL Playoff</td>\n",
              "      <td>20</td>\n",
              "      <td>3</td>\n",
              "      <td>16</td>\n",
              "      <td>76.0</td>\n",
              "      <td>48.0</td>\n",
              "      <td>24</td>\n",
              "      <td>Boston Bruins</td>\n",
              "      <td>0.666667</td>\n",
              "      <td>3.166667</td>\n",
              "      <td>2.000000</td>\n",
              "    </tr>\n",
              "    <tr>\n",
              "      <th>2</th>\n",
              "      <td>BUF</td>\n",
              "      <td>48</td>\n",
              "      <td>46</td>\n",
              "      <td>13.0</td>\n",
              "      <td>2010 NHL Playoff</td>\n",
              "      <td>17</td>\n",
              "      <td>3</td>\n",
              "      <td>3</td>\n",
              "      <td>17.0</td>\n",
              "      <td>22.0</td>\n",
              "      <td>7</td>\n",
              "      <td>Buffalo Sabres</td>\n",
              "      <td>0.428571</td>\n",
              "      <td>2.428571</td>\n",
              "      <td>3.142857</td>\n",
              "    </tr>\n",
              "    <tr>\n",
              "      <th>3</th>\n",
              "      <td>CHI</td>\n",
              "      <td>27</td>\n",
              "      <td>39</td>\n",
              "      <td>6.0</td>\n",
              "      <td>2010 NHL Playoff</td>\n",
              "      <td>6</td>\n",
              "      <td>3</td>\n",
              "      <td>3</td>\n",
              "      <td>22.0</td>\n",
              "      <td>16.0</td>\n",
              "      <td>7</td>\n",
              "      <td>Chicago Blackhawks</td>\n",
              "      <td>0.428571</td>\n",
              "      <td>3.142857</td>\n",
              "      <td>2.285714</td>\n",
              "    </tr>\n",
              "    <tr>\n",
              "      <th>4</th>\n",
              "      <td>DET</td>\n",
              "      <td>59</td>\n",
              "      <td>55</td>\n",
              "      <td>6.0</td>\n",
              "      <td>2010 NHL Playoff</td>\n",
              "      <td>18</td>\n",
              "      <td>3</td>\n",
              "      <td>7</td>\n",
              "      <td>36.0</td>\n",
              "      <td>27.0</td>\n",
              "      <td>11</td>\n",
              "      <td>Detroit Red Wings</td>\n",
              "      <td>0.636364</td>\n",
              "      <td>3.272727</td>\n",
              "      <td>2.454545</td>\n",
              "    </tr>\n",
              "  </tbody>\n",
              "</table>\n",
              "</div>\n",
              "    <div class=\"colab-df-buttons\">\n",
              "\n",
              "  <div class=\"colab-df-container\">\n",
              "    <button class=\"colab-df-convert\" onclick=\"convertToInteractive('df-f548f644-7360-4cd8-a571-b6e7210732aa')\"\n",
              "            title=\"Convert this dataframe to an interactive table.\"\n",
              "            style=\"display:none;\">\n",
              "\n",
              "  <svg xmlns=\"http://www.w3.org/2000/svg\" height=\"24px\" viewBox=\"0 -960 960 960\">\n",
              "    <path d=\"M120-120v-720h720v720H120Zm60-500h600v-160H180v160Zm220 220h160v-160H400v160Zm0 220h160v-160H400v160ZM180-400h160v-160H180v160Zm440 0h160v-160H620v160ZM180-180h160v-160H180v160Zm440 0h160v-160H620v160Z\"/>\n",
              "  </svg>\n",
              "    </button>\n",
              "\n",
              "  <style>\n",
              "    .colab-df-container {\n",
              "      display:flex;\n",
              "      gap: 12px;\n",
              "    }\n",
              "\n",
              "    .colab-df-convert {\n",
              "      background-color: #E8F0FE;\n",
              "      border: none;\n",
              "      border-radius: 50%;\n",
              "      cursor: pointer;\n",
              "      display: none;\n",
              "      fill: #1967D2;\n",
              "      height: 32px;\n",
              "      padding: 0 0 0 0;\n",
              "      width: 32px;\n",
              "    }\n",
              "\n",
              "    .colab-df-convert:hover {\n",
              "      background-color: #E2EBFA;\n",
              "      box-shadow: 0px 1px 2px rgba(60, 64, 67, 0.3), 0px 1px 3px 1px rgba(60, 64, 67, 0.15);\n",
              "      fill: #174EA6;\n",
              "    }\n",
              "\n",
              "    .colab-df-buttons div {\n",
              "      margin-bottom: 4px;\n",
              "    }\n",
              "\n",
              "    [theme=dark] .colab-df-convert {\n",
              "      background-color: #3B4455;\n",
              "      fill: #D2E3FC;\n",
              "    }\n",
              "\n",
              "    [theme=dark] .colab-df-convert:hover {\n",
              "      background-color: #434B5C;\n",
              "      box-shadow: 0px 1px 3px 1px rgba(0, 0, 0, 0.15);\n",
              "      filter: drop-shadow(0px 1px 2px rgba(0, 0, 0, 0.3));\n",
              "      fill: #FFFFFF;\n",
              "    }\n",
              "  </style>\n",
              "\n",
              "    <script>\n",
              "      const buttonEl =\n",
              "        document.querySelector('#df-f548f644-7360-4cd8-a571-b6e7210732aa button.colab-df-convert');\n",
              "      buttonEl.style.display =\n",
              "        google.colab.kernel.accessAllowed ? 'block' : 'none';\n",
              "\n",
              "      async function convertToInteractive(key) {\n",
              "        const element = document.querySelector('#df-f548f644-7360-4cd8-a571-b6e7210732aa');\n",
              "        const dataTable =\n",
              "          await google.colab.kernel.invokeFunction('convertToInteractive',\n",
              "                                                    [key], {});\n",
              "        if (!dataTable) return;\n",
              "\n",
              "        const docLinkHtml = 'Like what you see? Visit the ' +\n",
              "          '<a target=\"_blank\" href=https://colab.research.google.com/notebooks/data_table.ipynb>data table notebook</a>'\n",
              "          + ' to learn more about interactive tables.';\n",
              "        element.innerHTML = '';\n",
              "        dataTable['output_type'] = 'display_data';\n",
              "        await google.colab.output.renderOutput(dataTable, element);\n",
              "        const docLink = document.createElement('div');\n",
              "        docLink.innerHTML = docLinkHtml;\n",
              "        element.appendChild(docLink);\n",
              "      }\n",
              "    </script>\n",
              "  </div>\n",
              "\n",
              "\n",
              "<div id=\"df-82f3a998-3328-4aa7-bbe5-bfe1a7af7e77\">\n",
              "  <button class=\"colab-df-quickchart\" onclick=\"quickchart('df-82f3a998-3328-4aa7-bbe5-bfe1a7af7e77')\"\n",
              "            title=\"Suggest charts\"\n",
              "            style=\"display:none;\">\n",
              "\n",
              "<svg xmlns=\"http://www.w3.org/2000/svg\" height=\"24px\"viewBox=\"0 0 24 24\"\n",
              "     width=\"24px\">\n",
              "    <g>\n",
              "        <path d=\"M19 3H5c-1.1 0-2 .9-2 2v14c0 1.1.9 2 2 2h14c1.1 0 2-.9 2-2V5c0-1.1-.9-2-2-2zM9 17H7v-7h2v7zm4 0h-2V7h2v10zm4 0h-2v-4h2v4z\"/>\n",
              "    </g>\n",
              "</svg>\n",
              "  </button>\n",
              "\n",
              "<style>\n",
              "  .colab-df-quickchart {\n",
              "      --bg-color: #E8F0FE;\n",
              "      --fill-color: #1967D2;\n",
              "      --hover-bg-color: #E2EBFA;\n",
              "      --hover-fill-color: #174EA6;\n",
              "      --disabled-fill-color: #AAA;\n",
              "      --disabled-bg-color: #DDD;\n",
              "  }\n",
              "\n",
              "  [theme=dark] .colab-df-quickchart {\n",
              "      --bg-color: #3B4455;\n",
              "      --fill-color: #D2E3FC;\n",
              "      --hover-bg-color: #434B5C;\n",
              "      --hover-fill-color: #FFFFFF;\n",
              "      --disabled-bg-color: #3B4455;\n",
              "      --disabled-fill-color: #666;\n",
              "  }\n",
              "\n",
              "  .colab-df-quickchart {\n",
              "    background-color: var(--bg-color);\n",
              "    border: none;\n",
              "    border-radius: 50%;\n",
              "    cursor: pointer;\n",
              "    display: none;\n",
              "    fill: var(--fill-color);\n",
              "    height: 32px;\n",
              "    padding: 0;\n",
              "    width: 32px;\n",
              "  }\n",
              "\n",
              "  .colab-df-quickchart:hover {\n",
              "    background-color: var(--hover-bg-color);\n",
              "    box-shadow: 0 1px 2px rgba(60, 64, 67, 0.3), 0 1px 3px 1px rgba(60, 64, 67, 0.15);\n",
              "    fill: var(--button-hover-fill-color);\n",
              "  }\n",
              "\n",
              "  .colab-df-quickchart-complete:disabled,\n",
              "  .colab-df-quickchart-complete:disabled:hover {\n",
              "    background-color: var(--disabled-bg-color);\n",
              "    fill: var(--disabled-fill-color);\n",
              "    box-shadow: none;\n",
              "  }\n",
              "\n",
              "  .colab-df-spinner {\n",
              "    border: 2px solid var(--fill-color);\n",
              "    border-color: transparent;\n",
              "    border-bottom-color: var(--fill-color);\n",
              "    animation:\n",
              "      spin 1s steps(1) infinite;\n",
              "  }\n",
              "\n",
              "  @keyframes spin {\n",
              "    0% {\n",
              "      border-color: transparent;\n",
              "      border-bottom-color: var(--fill-color);\n",
              "      border-left-color: var(--fill-color);\n",
              "    }\n",
              "    20% {\n",
              "      border-color: transparent;\n",
              "      border-left-color: var(--fill-color);\n",
              "      border-top-color: var(--fill-color);\n",
              "    }\n",
              "    30% {\n",
              "      border-color: transparent;\n",
              "      border-left-color: var(--fill-color);\n",
              "      border-top-color: var(--fill-color);\n",
              "      border-right-color: var(--fill-color);\n",
              "    }\n",
              "    40% {\n",
              "      border-color: transparent;\n",
              "      border-right-color: var(--fill-color);\n",
              "      border-top-color: var(--fill-color);\n",
              "    }\n",
              "    60% {\n",
              "      border-color: transparent;\n",
              "      border-right-color: var(--fill-color);\n",
              "    }\n",
              "    80% {\n",
              "      border-color: transparent;\n",
              "      border-right-color: var(--fill-color);\n",
              "      border-bottom-color: var(--fill-color);\n",
              "    }\n",
              "    90% {\n",
              "      border-color: transparent;\n",
              "      border-bottom-color: var(--fill-color);\n",
              "    }\n",
              "  }\n",
              "</style>\n",
              "\n",
              "  <script>\n",
              "    async function quickchart(key) {\n",
              "      const quickchartButtonEl =\n",
              "        document.querySelector('#' + key + ' button');\n",
              "      quickchartButtonEl.disabled = true;  // To prevent multiple clicks.\n",
              "      quickchartButtonEl.classList.add('colab-df-spinner');\n",
              "      try {\n",
              "        const charts = await google.colab.kernel.invokeFunction(\n",
              "            'suggestCharts', [key], {});\n",
              "      } catch (error) {\n",
              "        console.error('Error during call to suggestCharts:', error);\n",
              "      }\n",
              "      quickchartButtonEl.classList.remove('colab-df-spinner');\n",
              "      quickchartButtonEl.classList.add('colab-df-quickchart-complete');\n",
              "    }\n",
              "    (() => {\n",
              "      let quickchartButtonEl =\n",
              "        document.querySelector('#df-82f3a998-3328-4aa7-bbe5-bfe1a7af7e77 button');\n",
              "      quickchartButtonEl.style.display =\n",
              "        google.colab.kernel.accessAllowed ? 'block' : 'none';\n",
              "    })();\n",
              "  </script>\n",
              "</div>\n",
              "\n",
              "    </div>\n",
              "  </div>\n"
            ],
            "application/vnd.google.colaboratory.intrinsic+json": {
              "type": "dataframe",
              "variable_name": "NHL_Team_Stats",
              "summary": "{\n  \"name\": \"NHL_Team_Stats\",\n  \"rows\": 369,\n  \"fields\": [\n    {\n      \"column\": \"tricode\",\n      \"properties\": {\n        \"dtype\": \"category\",\n        \"num_unique_values\": 33,\n        \"samples\": [\n          \"ARI\",\n          \"WSH\",\n          \"NYI\"\n        ],\n        \"semantic_type\": \"\",\n        \"description\": \"\"\n      }\n    },\n    {\n      \"column\": \"pp\",\n      \"properties\": {\n        \"dtype\": \"number\",\n        \"std\": 129,\n        \"min\": 11,\n        \"max\": 457,\n        \"num_unique_values\": 218,\n        \"samples\": [\n          178,\n          280,\n          29\n        ],\n        \"semantic_type\": \"\",\n        \"description\": \"\"\n      }\n    },\n    {\n      \"column\": \"pk\",\n      \"properties\": {\n        \"dtype\": \"number\",\n        \"std\": 128,\n        \"min\": 10,\n        \"max\": 444,\n        \"num_unique_values\": 211,\n        \"samples\": [\n          279,\n          320,\n          42\n        ],\n        \"semantic_type\": \"\",\n        \"description\": \"\"\n      }\n    },\n    {\n      \"column\": \"ppgf\",\n      \"properties\": {\n        \"dtype\": \"number\",\n        \"std\": 24.124190118840897,\n        \"min\": 1.0,\n        \"max\": 97.0,\n        \"num_unique_values\": 85,\n        \"samples\": [\n          68.0,\n          9.0,\n          51.0\n        ],\n        \"semantic_type\": \"\",\n        \"description\": \"\"\n      }\n    },\n    {\n      \"column\": \"competition_name\",\n      \"properties\": {\n        \"dtype\": \"category\",\n        \"num_unique_values\": 16,\n        \"samples\": [\n          \"2010 NHL Playoff\",\n          \"2010 NHL Regular Season\",\n          \"2012 NHL Regular Season\"\n        ],\n        \"semantic_type\": \"\",\n        \"description\": \"\"\n      }\n    },\n    {\n      \"column\": \"tid\",\n      \"properties\": {\n        \"dtype\": \"number\",\n        \"std\": 590,\n        \"min\": 1,\n        \"max\": 11366,\n        \"num_unique_values\": 33,\n        \"samples\": [\n          43,\n          5,\n          51\n        ],\n        \"semantic_type\": \"\",\n        \"description\": \"\"\n      }\n    },\n    {\n      \"column\": \"type\",\n      \"properties\": {\n        \"dtype\": \"number\",\n        \"std\": 0,\n        \"min\": 2,\n        \"max\": 3,\n        \"num_unique_values\": 2,\n        \"samples\": [\n          2,\n          3\n        ],\n        \"semantic_type\": \"\",\n        \"description\": \"\"\n      }\n    },\n    {\n      \"column\": \"win\",\n      \"properties\": {\n        \"dtype\": \"number\",\n        \"std\": 16,\n        \"min\": 0,\n        \"max\": 54,\n        \"num_unique_values\": 54,\n        \"samples\": [\n          30,\n          51\n        ],\n        \"semantic_type\": \"\",\n        \"description\": \"\"\n      }\n    },\n    {\n      \"column\": \"goals_for\",\n      \"properties\": {\n        \"dtype\": \"number\",\n        \"std\": 93.08419816509232,\n        \"min\": 3.0,\n        \"max\": 293.0,\n        \"num_unique_values\": 171,\n        \"samples\": [\n          265.0,\n          117.0\n        ],\n        \"semantic_type\": \"\",\n        \"description\": \"\"\n      }\n    },\n    {\n      \"column\": \"goals_against\",\n      \"properties\": {\n        \"dtype\": \"number\",\n        \"std\": 92.72278993928694,\n        \"min\": 7.0,\n        \"max\": 295.0,\n        \"num_unique_values\": 170,\n        \"samples\": [\n          32.0,\n          189.0\n        ],\n        \"semantic_type\": \"\",\n        \"description\": \"\"\n      }\n    },\n    {\n      \"column\": \"game_count\",\n      \"properties\": {\n        \"dtype\": \"number\",\n        \"std\": 31,\n        \"min\": 4,\n        \"max\": 82,\n        \"num_unique_values\": 40,\n        \"samples\": [\n          9,\n          77\n        ],\n        \"semantic_type\": \"\",\n        \"description\": \"\"\n      }\n    },\n    {\n      \"column\": \"team_name\",\n      \"properties\": {\n        \"dtype\": \"category\",\n        \"num_unique_values\": 33,\n        \"samples\": [\n          \"Arizona Coyotes\",\n          \"Washington Capitals\"\n        ],\n        \"semantic_type\": \"\",\n        \"description\": \"\"\n      }\n    },\n    {\n      \"column\": \"win_pct\",\n      \"properties\": {\n        \"dtype\": \"number\",\n        \"std\": 0.1342965140268498,\n        \"min\": 0.0,\n        \"max\": 0.8,\n        \"num_unique_values\": 160,\n        \"samples\": [\n          0.6111111111111112,\n          0.3658536585365853\n        ],\n        \"semantic_type\": \"\",\n        \"description\": \"\"\n      }\n    },\n    {\n      \"column\": \"avg_gf\",\n      \"properties\": {\n        \"dtype\": \"number\",\n        \"std\": 0.4658518553366637,\n        \"min\": 0.75,\n        \"max\": 4.333333333333333,\n        \"num_unique_values\": 251,\n        \"samples\": [\n          2.08641975308642,\n          1.6\n        ],\n        \"semantic_type\": \"\",\n        \"description\": \"\"\n      }\n    },\n    {\n      \"column\": \"avg_ga\",\n      \"properties\": {\n        \"dtype\": \"number\",\n        \"std\": 0.4735338920289069,\n        \"min\": 1.5,\n        \"max\": 5.0,\n        \"num_unique_values\": 260,\n        \"samples\": [\n          2.569620253164557,\n          3.071428571428572\n        ],\n        \"semantic_type\": \"\",\n        \"description\": \"\"\n      }\n    }\n  ]\n}"
            }
          },
          "metadata": {},
          "execution_count": 3
        }
      ],
      "source": [
        "NHL_Team_Stats=pd.read_csv(\"/content/drive/MyDrive/Colab Notebooks/Sports Performance Analytics Specialization/Course 1 - Foundations of Sports Analytics: Data, Representation, and Models in Sports/work/Data/Week 4/NHL_Team_Stats.csv\")\n",
        "NHL_Team_R_Stats=pd.read_csv(\"/content/drive/MyDrive/Colab Notebooks/Sports Performance Analytics Specialization/Course 1 - Foundations of Sports Analytics: Data, Representation, and Models in Sports/work/Data/Week 4/NHL_Team_R_Stats.csv\")\n",
        "NHL_Team_Stats.head()"
      ]
    },
    {
      "cell_type": "markdown",
      "metadata": {
        "scrolled": false,
        "id": "hW44Jy5c1kDK"
      },
      "source": [
        "## Regression analyses in Python\n",
        "#### To run regressions in Python, we will introduce a new library, “statsmodels,” which is a Python module that provides classes and functions for the estimation of many different statistical models, as well as for conducting statistical tests, and statistical data exploration."
      ]
    },
    {
      "cell_type": "code",
      "execution_count": 4,
      "metadata": {
        "id": "Zk_-EC_P1kDK"
      },
      "outputs": [],
      "source": [
        "import statsmodels.formula.api as sm"
      ]
    },
    {
      "cell_type": "markdown",
      "metadata": {
        "id": "WgbzmOyy1kDK"
      },
      "source": [
        "At the end of the assignment in week 2, we observed that there is a linear relationship between total goals for and winning percentage. Let’s run a regression where winning percentage is the dependent variable and total goals for is the explanatory variable.\n",
        "- We can use the command “ols()” to indicate an ordinary least squared regression.\n",
        "- The “fit()” function would allow us to obtain the estimated coefficient of our regression model."
      ]
    },
    {
      "cell_type": "code",
      "execution_count": 5,
      "metadata": {
        "id": "jr9L7Q8A1kDL"
      },
      "outputs": [],
      "source": [
        "reg1 = sm.ols(formula = 'win_pct ~ goals_for', data= NHL_Team_R_Stats).fit()"
      ]
    },
    {
      "cell_type": "markdown",
      "metadata": {
        "id": "sgN7lbYR1kDL"
      },
      "source": [
        "After we run a regression, we can use the “summary()” command to obtain a number of statistics from our regression model.\n"
      ]
    },
    {
      "cell_type": "code",
      "execution_count": 6,
      "metadata": {
        "colab": {
          "base_uri": "https://localhost:8080/"
        },
        "id": "EtOuJ2ss1kDL",
        "outputId": "bf8d078f-7e53-4233-b621-eb7eef27f51f"
      },
      "outputs": [
        {
          "output_type": "stream",
          "name": "stdout",
          "text": [
            "                            OLS Regression Results                            \n",
            "==============================================================================\n",
            "Dep. Variable:                win_pct   R-squared:                       0.591\n",
            "Model:                            OLS   Adj. R-squared:                  0.588\n",
            "Method:                 Least Squares   F-statistic:                     258.2\n",
            "Date:                Sat, 02 Mar 2024   Prob (F-statistic):           1.52e-36\n",
            "Time:                        06:35:38   Log-Likelihood:                 253.82\n",
            "No. Observations:                 181   AIC:                            -503.6\n",
            "Df Residuals:                     179   BIC:                            -497.3\n",
            "Df Model:                           1                                         \n",
            "Covariance Type:            nonrobust                                         \n",
            "==============================================================================\n",
            "                 coef    std err          t      P>|t|      [0.025      0.975]\n",
            "------------------------------------------------------------------------------\n",
            "Intercept     -0.1781      0.042     -4.222      0.000      -0.261      -0.095\n",
            "goals_for      0.0030      0.000     16.067      0.000       0.003       0.003\n",
            "==============================================================================\n",
            "Omnibus:                        0.122   Durbin-Watson:                   1.709\n",
            "Prob(Omnibus):                  0.941   Jarque-Bera (JB):                0.197\n",
            "Skew:                          -0.060   Prob(JB):                        0.906\n",
            "Kurtosis:                       2.891   Cond. No.                     2.18e+03\n",
            "==============================================================================\n",
            "\n",
            "Notes:\n",
            "[1] Standard Errors assume that the covariance matrix of the errors is correctly specified.\n",
            "[2] The condition number is large, 2.18e+03. This might indicate that there are\n",
            "strong multicollinearity or other numerical problems.\n"
          ]
        }
      ],
      "source": [
        "print(reg1.summary())"
      ]
    },
    {
      "cell_type": "markdown",
      "metadata": {
        "id": "uZ16smMM1kDL"
      },
      "source": [
        "### Interpreting results\n",
        "From the result table, we can see that the dependent variable is winning percentage (\"win_pct\") and there are 181 observations in this regression. The independent variable is the number of goals for the team (\"goals_for\"). An intercept is also included in the regression.\n",
        "\n",
        "The estimated coefficient on goals_for is 0.003. This means that an additional goal scored by the team will increase the team's winning percentage of 0.003. The estimate on the intercept is -0.1781. This means that without scoring any goal, the winning percentage for the team would be -0.1781. As we know, the winning percentage cannot be negative. The reason we get a negative estimate on the intercept is because in our sample, there is not a single game where a team scored zero goals.\n",
        "\n",
        "- t-statistics and p-value\n",
        "\n",
        "t-statistics is defined as the estimated coefficient divided by its standard error. If the estimated coefficient is large compared to its standard error, then it is likely to be different than zero.\n",
        "\n",
        "p-value is defined as the probability of obtaining a result as extreme as the result actually observed, in this case, the t-statistics we have in the regression analysis. Comparing the t-statistics with the student t distribution, if 95% of the t distribution is closer to the mean than the t-statistics, we will have p-value of 0.05, which is also referred to a 5% significance level. A p-value no more than 0.05 (5%) is generally accepted in rejecting the null hypothesis. We say that the estimated coefficient is statistically significant at the 5% level.\n",
        "\n",
        "In this regression, the p-value of the goals_for variable is 0.000 which suggests that the estimate is statistically significant at the 1% level.\n",
        "\n",
        "\n",
        "- R-squared\n",
        "\n",
        "\n",
        "R-squared measures the goodness of fit of the model. The R-squared of a regression is the fraction of the variation in the dependent variable that is accounted for by the independent variables. R-squared is always between 0 and 1. The larger the R-squared, the more variation is accounted for by the regression model.\n",
        "\n",
        "In this regression, the R-squared is 0.591 which means that approximately 59.1% of the variation of the winning percentage is accounted for by the model."
      ]
    },
    {
      "cell_type": "markdown",
      "metadata": {
        "id": "p3k85wA61kDL"
      },
      "source": [
        "#### Let's explore the relationship between goals_against and winning percentage in the regular season.\n",
        "- Create a scatter plot to depict the relationship between total goals against and winning percentage without seperating the data by competition"
      ]
    },
    {
      "cell_type": "code",
      "execution_count": 7,
      "metadata": {
        "colab": {
          "base_uri": "https://localhost:8080/",
          "height": 555
        },
        "id": "Z2EWBUZw1kDL",
        "outputId": "002e8572-4934-4f62-bd27-ab88cfa2b170"
      },
      "outputs": [
        {
          "output_type": "execute_result",
          "data": {
            "text/plain": [
              "Text(0.5, 1.0, 'Relationship between Goals against and Winning Percentage')"
            ]
          },
          "metadata": {},
          "execution_count": 7
        },
        {
          "output_type": "display_data",
          "data": {
            "text/plain": [
              "<Figure size 500x500 with 1 Axes>"
            ],
            "image/png": "[encoded data removed]"
          },
          "metadata": {}
        }
      ],
      "source": [
        "import seaborn as sns\n",
        "sns.lmplot(x='goals_against', y='win_pct',  data=NHL_Team_R_Stats)\n",
        "plt.xlabel('Total Goals against')\n",
        "plt.ylabel('Winning Percentage')\n",
        "plt.title(\"Relationship between Goals against and Winning Percentage\", fontsize=20)"
      ]
    },
    {
      "cell_type": "markdown",
      "metadata": {
        "id": "iubTy52X1kDM"
      },
      "source": [
        "- Calculate the correlation coefficient between goals against and winning percentage\n"
      ]
    },
    {
      "cell_type": "code",
      "execution_count": 8,
      "metadata": {
        "colab": {
          "base_uri": "https://localhost:8080/"
        },
        "id": "YfZ9sMB_1kDM",
        "outputId": "79378b96-f386-41d4-a129-db8e2a26e998"
      },
      "outputs": [
        {
          "output_type": "execute_result",
          "data": {
            "text/plain": [
              "-0.7445117715217242"
            ]
          },
          "metadata": {},
          "execution_count": 8
        }
      ],
      "source": [
        "NHL_Team_R_Stats['goals_against'].corr(NHL_Team_R_Stats['win_pct'])"
      ]
    },
    {
      "cell_type": "markdown",
      "metadata": {
        "id": "PqPZ8mn41kDM"
      },
      "source": [
        "- Run a simple linear regression to find NHL team winning percentage as a function of total goals against\n"
      ]
    },
    {
      "cell_type": "code",
      "execution_count": 9,
      "metadata": {
        "colab": {
          "base_uri": "https://localhost:8080/"
        },
        "id": "g29pYKIx1kDM",
        "outputId": "ffdc7e2e-65fb-49ff-e346-0b3905d38f46"
      },
      "outputs": [
        {
          "output_type": "stream",
          "name": "stdout",
          "text": [
            "                            OLS Regression Results                            \n",
            "==============================================================================\n",
            "Dep. Variable:                win_pct   R-squared:                       0.554\n",
            "Model:                            OLS   Adj. R-squared:                  0.552\n",
            "Method:                 Least Squares   F-statistic:                     222.6\n",
            "Date:                Sat, 02 Mar 2024   Prob (F-statistic):           3.09e-33\n",
            "Time:                        06:59:58   Log-Likelihood:                 246.15\n",
            "No. Observations:                 181   AIC:                            -488.3\n",
            "Df Residuals:                     179   BIC:                            -481.9\n",
            "Df Model:                           1                                         \n",
            "Covariance Type:            nonrobust                                         \n",
            "=================================================================================\n",
            "                    coef    std err          t      P>|t|      [0.025      0.975]\n",
            "---------------------------------------------------------------------------------\n",
            "Intercept         1.1651      0.045     25.839      0.000       1.076       1.254\n",
            "goals_against    -0.0029      0.000    -14.920      0.000      -0.003      -0.003\n",
            "==============================================================================\n",
            "Omnibus:                        0.581   Durbin-Watson:                   1.647\n",
            "Prob(Omnibus):                  0.748   Jarque-Bera (JB):                0.688\n",
            "Skew:                          -0.125   Prob(JB):                        0.709\n",
            "Kurtosis:                       2.830   Cond. No.                     2.23e+03\n",
            "==============================================================================\n",
            "\n",
            "Notes:\n",
            "[1] Standard Errors assume that the covariance matrix of the errors is correctly specified.\n",
            "[2] The condition number is large, 2.23e+03. This might indicate that there are\n",
            "strong multicollinearity or other numerical problems.\n"
          ]
        }
      ],
      "source": [
        "reg2 = sm.ols(formula = 'win_pct ~ goals_against', data= NHL_Team_R_Stats).fit()\n",
        "print(reg2.summary())"
      ]
    },
    {
      "cell_type": "markdown",
      "metadata": {
        "id": "xOGK7Y8i1kDM"
      },
      "source": [
        "## Self Test - 1\n",
        "1. Use the regular season data, create a scatterplot and a regression line to demonstrate the relationship between average goals for per game and winning percentage.\n",
        "2. Run a linear regression where winning percentage is the dependent variable and average goals for is the explanatory variable\n",
        "3. Interpret the coefficient on the average goals for, is this estimate statistically significant?\n",
        "4. How well does this regression do in fitting the data?"
      ]
    },
    {
      "cell_type": "code",
      "execution_count": null,
      "metadata": {
        "id": "mcDDBp3C1kDM"
      },
      "outputs": [],
      "source": [
        "#Your Code Here"
      ]
    },
    {
      "cell_type": "markdown",
      "metadata": {
        "id": "NsBD7gsN1kDM"
      },
      "source": [
        "### Multiple Regression -  more than one explanatory variables.\n",
        "Often times, the outcome variable of interest is affected by multiple factors. We can specify a regression equation where the outcome is function of more than one explanatory variables.\n",
        "\n",
        "Let's run a linear regression where winning percentage is a function of both average number of goals for per game and average number of goals against per game."
      ]
    },
    {
      "cell_type": "code",
      "execution_count": 10,
      "metadata": {
        "colab": {
          "base_uri": "https://localhost:8080/"
        },
        "id": "P3FS1efG1kDN",
        "outputId": "cc237ab4-7e81-4e9c-9771-fb57c44b10b9"
      },
      "outputs": [
        {
          "output_type": "stream",
          "name": "stdout",
          "text": [
            "                            OLS Regression Results                            \n",
            "==============================================================================\n",
            "Dep. Variable:                win_pct   R-squared:                       0.917\n",
            "Model:                            OLS   Adj. R-squared:                  0.916\n",
            "Method:                 Least Squares   F-statistic:                     985.1\n",
            "Date:                Sat, 02 Mar 2024   Prob (F-statistic):           5.39e-97\n",
            "Time:                        07:04:06   Log-Likelihood:                 398.42\n",
            "No. Observations:                 181   AIC:                            -790.8\n",
            "Df Residuals:                     178   BIC:                            -781.2\n",
            "Df Model:                           2                                         \n",
            "Covariance Type:            nonrobust                                         \n",
            "==============================================================================\n",
            "                 coef    std err          t      P>|t|      [0.025      0.975]\n",
            "------------------------------------------------------------------------------\n",
            "Intercept      0.4862      0.031     15.559      0.000       0.425       0.548\n",
            "avg_gf         0.1909      0.007     27.295      0.000       0.177       0.205\n",
            "avg_ga        -0.1874      0.007    -27.193      0.000      -0.201      -0.174\n",
            "==============================================================================\n",
            "Omnibus:                        1.055   Durbin-Watson:                   1.989\n",
            "Prob(Omnibus):                  0.590   Jarque-Bera (JB):                0.969\n",
            "Skew:                           0.179   Prob(JB):                        0.616\n",
            "Kurtosis:                       2.974   Cond. No.                         66.6\n",
            "==============================================================================\n",
            "\n",
            "Notes:\n",
            "[1] Standard Errors assume that the covariance matrix of the errors is correctly specified.\n"
          ]
        }
      ],
      "source": [
        "reg4 = sm.ols(formula = 'win_pct ~ avg_gf+avg_ga', data= NHL_Team_R_Stats).fit()\n",
        "print(reg4.summary())"
      ]
    },
    {
      "cell_type": "markdown",
      "metadata": {
        "id": "yIJWoKMC1kDN"
      },
      "source": [
        "_Interpret the coefficients_\n",
        "\n",
        "- Average goals for: for the same average number of goals against, scoring one more goal per game will increase the winning percentage by 0.1909 (19.09%)\n",
        "- Average goals against: having the same average number of goals for per game, conceding one more goal per game will decrease the winning percentage by 0.1874 (18.74%)"
      ]
    },
    {
      "cell_type": "markdown",
      "metadata": {
        "id": "KuYZ4yI51kDN"
      },
      "source": [
        "### Regression with categorical variables\n",
        "In the above regressions, we focus on using quantitative variables as explanatory variables. We could also include categorical variables as explanatory variables in the regression as well.\n",
        "\n",
        "Essentially, when we incorporate a categorical variable, we first transform it into dummy variable(s) that carry value of either 0 or 1. We then use the dummy variable(s) into our regression.\n",
        "\n",
        "Let's consider the dataset that includes both regular season and playoff. In this dataset, the variable \"type\" captures whether a game is a regular season game or playoff game. type=2 means it is regular season competition while type=3 means it is a playoff game.\n",
        "\n",
        "_We will first convert variable \"type\" into categorical variable._"
      ]
    },
    {
      "cell_type": "code",
      "execution_count": 11,
      "metadata": {
        "id": "qfx8NEwN1kDN"
      },
      "outputs": [],
      "source": [
        "NHL_Team_Stats['type']=NHL_Team_Stats['type'].astype(object)"
      ]
    },
    {
      "cell_type": "markdown",
      "metadata": {
        "id": "M504_wy71kDN"
      },
      "source": [
        "Now we can run a regression where winning percentage is a function of average goals for and the type of competition."
      ]
    },
    {
      "cell_type": "code",
      "execution_count": 12,
      "metadata": {
        "colab": {
          "base_uri": "https://localhost:8080/"
        },
        "id": "mUlEiXzX1kDN",
        "outputId": "4b0be1c0-ceee-49aa-a94d-33340a80080c"
      },
      "outputs": [
        {
          "output_type": "stream",
          "name": "stdout",
          "text": [
            "                            OLS Regression Results                            \n",
            "==============================================================================\n",
            "Dep. Variable:                win_pct   R-squared:                       0.426\n",
            "Model:                            OLS   Adj. R-squared:                  0.423\n",
            "Method:                 Least Squares   F-statistic:                     136.0\n",
            "Date:                Sat, 02 Mar 2024   Prob (F-statistic):           6.88e-45\n",
            "Time:                        07:08:30   Log-Likelihood:                 320.28\n",
            "No. Observations:                 369   AIC:                            -634.6\n",
            "Df Residuals:                     366   BIC:                            -622.8\n",
            "Df Model:                           2                                         \n",
            "Covariance Type:            nonrobust                                         \n",
            "==============================================================================\n",
            "                 coef    std err          t      P>|t|      [0.025      0.975]\n",
            "------------------------------------------------------------------------------\n",
            "Intercept     -0.0197      0.035     -0.558      0.577      -0.089       0.050\n",
            "type[T.3]     -0.0160      0.012     -1.344      0.180      -0.039       0.007\n",
            "avg_gf         0.1818      0.012     14.914      0.000       0.158       0.206\n",
            "==============================================================================\n",
            "Omnibus:                       63.422   Durbin-Watson:                   1.880\n",
            "Prob(Omnibus):                  0.000   Jarque-Bera (JB):              156.332\n",
            "Skew:                          -0.843   Prob(JB):                     1.13e-34\n",
            "Kurtosis:                       5.707   Cond. No.                         20.9\n",
            "==============================================================================\n",
            "\n",
            "Notes:\n",
            "[1] Standard Errors assume that the covariance matrix of the errors is correctly specified.\n"
          ]
        }
      ],
      "source": [
        "reg5 = sm.ols(formula = 'win_pct ~ avg_gf+type', data= NHL_Team_Stats).fit()\n",
        "print(reg5.summary())"
      ]
    },
    {
      "cell_type": "markdown",
      "metadata": {
        "id": "HOpnEx1U1kDN"
      },
      "source": [
        "A dummy variable = 1 if type= 3 (playoff) and = 0 if type = 2 (regular season) is included in the regression.\n",
        "\n",
        "_Interpretation: with the same average goals for per game, the winning percentage in the playoff games is 0.0160 (1.6%) lower than the winning percentage in the regular season games._\n"
      ]
    },
    {
      "cell_type": "markdown",
      "metadata": {
        "id": "1SNL5ha01kDO"
      },
      "source": [
        "## Self Test - 2\n",
        "1. Run a regression where winning percentage is a function of average goals for, average goals against, and control for the different competitions.\n",
        "\n",
        "2. Interpret the coefficients."
      ]
    },
    {
      "cell_type": "code",
      "execution_count": 13,
      "metadata": {
        "colab": {
          "base_uri": "https://localhost:8080/"
        },
        "id": "OP6CoVkh1kDO",
        "outputId": "9c88e75d-6fef-4e7f-b32a-eaa17f3feffe"
      },
      "outputs": [
        {
          "output_type": "stream",
          "name": "stdout",
          "text": [
            "                            OLS Regression Results                            \n",
            "==============================================================================\n",
            "Dep. Variable:                win_pct   R-squared:                       0.451\n",
            "Model:                            OLS   Adj. R-squared:                  0.426\n",
            "Method:                 Least Squares   F-statistic:                     18.07\n",
            "Date:                Sat, 02 Mar 2024   Prob (F-statistic):           7.16e-37\n",
            "Time:                        07:19:02   Log-Likelihood:                 328.38\n",
            "No. Observations:                 369   AIC:                            -622.8\n",
            "Df Residuals:                     352   BIC:                            -556.3\n",
            "Df Model:                          16                                         \n",
            "Covariance Type:            nonrobust                                         \n",
            "===============================================================================================================\n",
            "                                                  coef    std err          t      P>|t|      [0.025      0.975]\n",
            "---------------------------------------------------------------------------------------------------------------\n",
            "Intercept                                      -0.0951      0.042     -2.245      0.025      -0.178      -0.012\n",
            "competition_name[T.2010 NHL Regular Season]     0.0411      0.032      1.303      0.194      -0.021       0.103\n",
            "competition_name[T.2011 NHL Playoff]            0.0719      0.036      1.984      0.048       0.001       0.143\n",
            "competition_name[T.2011 NHL Regular Season]     0.0439      0.032      1.391      0.165      -0.018       0.106\n",
            "competition_name[T.2012 NHL Playoff]            0.0617      0.036      1.704      0.089      -0.010       0.133\n",
            "competition_name[T.2012 NHL Regular Season]     0.0561      0.032      1.780      0.076      -0.006       0.118\n",
            "competition_name[T.2013 NHL Playoff]            0.0079      0.036      0.220      0.826      -0.063       0.079\n",
            "competition_name[T.2013 NHL Regular Season]     0.0480      0.032      1.521      0.129      -0.014       0.110\n",
            "competition_name[T.2014 NHL Playoff]            0.0536      0.036      1.484      0.139      -0.017       0.125\n",
            "competition_name[T.2014 NHL Regular Season]     0.0503      0.032      1.596      0.111      -0.012       0.112\n",
            "competition_name[T.2015 NHL Playoff]            0.0557      0.036      1.541      0.124      -0.015       0.127\n",
            "competition_name[T.2015 NHL Regular Season]     0.0602      0.032      1.912      0.057      -0.002       0.122\n",
            "competition_name[T.2016 NHL Playoff]            0.0275      0.036      0.760      0.448      -0.044       0.099\n",
            "competition_name[T.2016 NHL Regular Season]     0.0520      0.032      1.650      0.100      -0.010       0.114\n",
            "competition_name[T.2017 NHL Playoff]           -0.0167      0.036     -0.463      0.644      -0.087       0.054\n",
            "competition_name[T.2017 NHL Regular Season]     0.0100      0.032      0.316      0.752      -0.052       0.072\n",
            "avg_gf                                          0.1925      0.013     15.375      0.000       0.168       0.217\n",
            "==============================================================================\n",
            "Omnibus:                       80.127   Durbin-Watson:                   1.963\n",
            "Prob(Omnibus):                  0.000   Jarque-Bera (JB):              229.469\n",
            "Skew:                          -1.000   Prob(JB):                     1.48e-50\n",
            "Kurtosis:                       6.305   Cond. No.                         58.1\n",
            "==============================================================================\n",
            "\n",
            "Notes:\n",
            "[1] Standard Errors assume that the covariance matrix of the errors is correctly specified.\n"
          ]
        }
      ],
      "source": [
        "reg6 = sm.ols(formula = \"win_pct ~ avg_gf+competition_name\", data = NHL_Team_Stats).fit()\n",
        "print(reg6.summary())"
      ]
    },
    {
      "cell_type": "markdown",
      "metadata": {
        "id": "rgkoZoj-1kDO"
      },
      "source": [
        "### Regression with an interaction term\n",
        "\n",
        "What if the impact of an independent variable depends on the value of another variable? We can use interaction terms to allow for different impact of a variable based on one or more levels of another categorical variable.\n",
        "\n",
        "Let's consider the possibility that the average goals for may have different impact on winning percentage depending on the type of the game. We can run a regression of winning percentage on the average goals for, the type of the game, as well as the interaction between average goals for and type."
      ]
    },
    {
      "cell_type": "code",
      "execution_count": 14,
      "metadata": {
        "colab": {
          "base_uri": "https://localhost:8080/"
        },
        "id": "irkDKxon1kDO",
        "outputId": "65170e89-e122-4af1-f165-1ef82863a295"
      },
      "outputs": [
        {
          "output_type": "stream",
          "name": "stdout",
          "text": [
            "                            OLS Regression Results                            \n",
            "==============================================================================\n",
            "Dep. Variable:                win_pct   R-squared:                       0.441\n",
            "Model:                            OLS   Adj. R-squared:                  0.436\n",
            "Method:                 Least Squares   F-statistic:                     96.00\n",
            "Date:                Sat, 02 Mar 2024   Prob (F-statistic):           8.01e-46\n",
            "Time:                        07:20:32   Log-Likelihood:                 325.08\n",
            "No. Observations:                 369   AIC:                            -642.2\n",
            "Df Residuals:                     365   BIC:                            -626.5\n",
            "Df Model:                           3                                         \n",
            "Covariance Type:            nonrobust                                         \n",
            "====================================================================================\n",
            "                       coef    std err          t      P>|t|      [0.025      0.975]\n",
            "------------------------------------------------------------------------------------\n",
            "Intercept           -0.1748      0.061     -2.868      0.004      -0.295      -0.055\n",
            "type[T.3]            0.2029      0.072      2.835      0.005       0.062       0.344\n",
            "avg_gf               0.2365      0.021     11.081      0.000       0.194       0.278\n",
            "avg_gf:type[T.3]    -0.0802      0.026     -3.102      0.002      -0.131      -0.029\n",
            "==============================================================================\n",
            "Omnibus:                       59.042   Durbin-Watson:                   1.801\n",
            "Prob(Omnibus):                  0.000   Jarque-Bera (JB):              145.437\n",
            "Skew:                          -0.787   Prob(JB):                     2.62e-32\n",
            "Kurtosis:                       5.643   Cond. No.                         56.6\n",
            "==============================================================================\n",
            "\n",
            "Notes:\n",
            "[1] Standard Errors assume that the covariance matrix of the errors is correctly specified.\n"
          ]
        }
      ],
      "source": [
        "reg7 = sm.ols(formula = 'win_pct ~ avg_gf+type+avg_gf*type', data= NHL_Team_Stats).fit()\n",
        "print(reg7.summary())"
      ]
    },
    {
      "cell_type": "markdown",
      "metadata": {
        "id": "vFlOGI511kDO"
      },
      "source": [
        "_Interpretations_\n",
        "\n",
        "- For regular season games (type =2), scoring one more goal per game can increase the winning percentage by 0.2365 (23.65%);\n",
        "- For the playoff games (type =3), scoring one more goal per game will increase the winning percentage by 0.2365-0.0802=0.1563 (15.63%).\n",
        "\n",
        "\n",
        "## Self Test - 3\n",
        "#### Perform a similar exercise to find the relationship between the actual winning percentage and pythagorean winning percentage\n",
        "1. In the NHL_Team_Stats data, create the pythagorean winning percentage=goals_for^2/(goals_for^2+goals_against^2), call this new variable \"pyth_pct\"\n",
        "(In Python, ** is the operator for exponentiation. For example, the square of x would be x**2 in Python.)"
      ]
    },
    {
      "cell_type": "code",
      "execution_count": null,
      "metadata": {
        "id": "piicQwr41kDO"
      },
      "outputs": [],
      "source": [
        "#Your Code Here"
      ]
    },
    {
      "cell_type": "markdown",
      "metadata": {
        "id": "bpsZ8Ed31kDP"
      },
      "source": [
        "2. Create a scatter plot to show the relationship between Pythagorean winning percentage and the actual winning percentage\n"
      ]
    },
    {
      "cell_type": "code",
      "execution_count": null,
      "metadata": {
        "id": "SdtYRKO_1kDP"
      },
      "outputs": [],
      "source": [
        "#Your Code Here"
      ]
    },
    {
      "cell_type": "markdown",
      "metadata": {
        "id": "84I_KIzX1kDP"
      },
      "source": [
        "3. Run a linear regression (reg8) where winning percentage is the dependent variable and Pythagorean winning percentage is the explanatory variable.\n",
        "4. Interpret the estimate on the Pythagorean winning percentage and the goodness of fit of the regression model.\n"
      ]
    },
    {
      "cell_type": "code",
      "execution_count": null,
      "metadata": {
        "id": "NaoxLfpa1kDP"
      },
      "outputs": [],
      "source": [
        "#Your Code Here"
      ]
    },
    {
      "cell_type": "markdown",
      "metadata": {
        "id": "uCQ59kOh1kDP"
      },
      "source": [
        "5. Create a scatter plot to show the relationship between winning percentage and Pythagorean winning percentage, seperate the data points by the type of competition.\n"
      ]
    },
    {
      "cell_type": "code",
      "execution_count": null,
      "metadata": {
        "id": "Ux7yoDgX1kDP"
      },
      "outputs": [],
      "source": [
        "#Your Code Here"
      ]
    },
    {
      "cell_type": "markdown",
      "metadata": {
        "id": "9BpRygt91kDQ"
      },
      "source": [
        "6. Run a regression (reg9) where winning percentage is the dependent variable and Pythagorean winning percentage is the explanatory variable, controlling for the different competitions.\n",
        "7. Interpret the estimate on the Pythagorean winning percentage and the goodness of fit of the regression model."
      ]
    },
    {
      "cell_type": "code",
      "execution_count": null,
      "metadata": {
        "id": "KR5nYll51kDQ"
      },
      "outputs": [],
      "source": [
        "#Your Code Here"
      ]
    },
    {
      "cell_type": "markdown",
      "metadata": {
        "id": "-EK20CTP1kDQ"
      },
      "source": [
        "8. Run a regression (reg10) where winning percentage is the dependent variable and Pythagorean winning percentage, competition, and the interaction between competition and Pythagorean are the explanatory variables\n",
        "9. Interpret the estimate on the Pythagorean winning percentage and the goodness of fit of the regression model"
      ]
    },
    {
      "cell_type": "code",
      "execution_count": null,
      "metadata": {
        "id": "k3t3TjC_1kDQ"
      },
      "outputs": [],
      "source": [
        "#Your Code Here"
      ]
    },
    {
      "cell_type": "markdown",
      "metadata": {
        "id": "df7120s51kDQ"
      },
      "source": [
        "10. Discussion question: how well does Pythagorean winning percentage predicts the actual winning percentage based on our data?"
      ]
    }
  ],
  "metadata": {
    "kernelspec": {
      "display_name": "Python 3",
      "language": "python",
      "name": "python3"
    },
    "language_info": {
      "codemirror_mode": {
        "name": "ipython",
        "version": 3
      },
      "file_extension": ".py",
      "mimetype": "text/x-python",
      "name": "python",
      "nbconvert_exporter": "python",
      "pygments_lexer": "ipython3",
      "version": "3.7.4"
    },
    "colab": {
      "provenance": [],
      "include_colab_link": true
    }
  },
  "nbformat": 4,
  "nbformat_minor": 0
}
